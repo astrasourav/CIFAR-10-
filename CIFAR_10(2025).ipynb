{
  "cells": [
    {
      "cell_type": "markdown",
      "metadata": {
        "id": "b8BjwNCs04mw"
      },
      "source": [
        "# Importing Libraries"
      ]
    },
    {
      "cell_type": "code",
      "execution_count": null,
      "metadata": {
        "id": "uVrN7ud6aG1n"
      },
      "outputs": [],
      "source": [
        "import numpy as np\n",
        "import pandas as pd\n",
        "import matplotlib.pyplot as plt\n",
        "\n",
        "import torch\n",
        "import torch.nn as nn\n",
        "from torchvision import datasets, transforms\n",
        "from torch.utils.data import DataLoader"
      ]
    },
    {
      "cell_type": "markdown",
      "metadata": {
        "id": "wAA3UU4H0-E0"
      },
      "source": [
        "# Switching to GPU"
      ]
    },
    {
      "cell_type": "code",
      "execution_count": null,
      "metadata": {
        "colab": {
          "base_uri": "https://localhost:8080/"
        },
        "id": "JS5W6DOr0Lpo",
        "outputId": "059333c4-3528-4b71-a90e-9e5d205a8c4b"
      },
      "outputs": [
        {
          "output_type": "execute_result",
          "data": {
            "text/plain": [
              "device(type='cuda')"
            ]
          },
          "metadata": {},
          "execution_count": 2
        }
      ],
      "source": [
        "device = torch.device('cuda' if torch.cuda.is_available() else 'cpu')\n",
        "device"
      ]
    },
    {
      "cell_type": "markdown",
      "metadata": {
        "id": "dbOnP0zo1VAV"
      },
      "source": [
        "# Data Preprocessing"
      ]
    },
    {
      "cell_type": "code",
      "execution_count": null,
      "metadata": {
        "id": "PAfOOkXT1ON-"
      },
      "outputs": [],
      "source": [
        "transform = transforms.Compose([\n",
        "    transforms.RandomHorizontalFlip(),\n",
        "    transforms.RandomRotation(5),\n",
        "    transforms.ToTensor(),\n",
        "    transforms.Normalize((0.5, 0.5, 0.5), (0.5, 0.5, 0.5))\n",
        "])"
      ]
    },
    {
      "cell_type": "markdown",
      "metadata": {
        "id": "_dDuO3AN1C5p"
      },
      "source": [
        "# Getting the data"
      ]
    },
    {
      "cell_type": "code",
      "execution_count": null,
      "metadata": {
        "id": "oZHrCR4w1G4j",
        "colab": {
          "base_uri": "https://localhost:8080/"
        },
        "outputId": "b229ebd5-33f8-4e67-d33a-308c64b5bfae"
      },
      "outputs": [
        {
          "output_type": "stream",
          "name": "stderr",
          "text": [
            "100%|██████████| 170M/170M [00:03<00:00, 43.6MB/s]\n"
          ]
        }
      ],
      "source": [
        "train_data = datasets.CIFAR10(root='./data', train=True, download=True, transform=transform)\n",
        "test_data = datasets.CIFAR10(root='./data', train=False, download=True, transform=transform)"
      ]
    },
    {
      "cell_type": "markdown",
      "metadata": {
        "id": "uxiBPiei206r"
      },
      "source": [
        "# Dividing data into batches"
      ]
    },
    {
      "cell_type": "code",
      "execution_count": null,
      "metadata": {
        "id": "3r06E9Cf2Zqr"
      },
      "outputs": [],
      "source": [
        "train_loader = DataLoader(train_data, batch_size=64, shuffle= True)\n",
        "test_loader = DataLoader(test_data, batch_size=64, shuffle = True)"
      ]
    },
    {
      "cell_type": "markdown",
      "metadata": {
        "id": "tAYuqQHh3CrQ"
      },
      "source": [
        "# Building Model"
      ]
    },
    {
      "cell_type": "code",
      "execution_count": null,
      "metadata": {
        "colab": {
          "base_uri": "https://localhost:8080/"
        },
        "id": "RhhwzTcE3FpQ",
        "outputId": "7d8f9cf8-f3cc-4492-c03e-4780c29397b7"
      },
      "outputs": [
        {
          "output_type": "stream",
          "name": "stdout",
          "text": [
            "Model(\n",
            "  (conv1): Conv2d(3, 32, kernel_size=(3, 3), stride=(1, 1), padding=(1, 1))\n",
            "  (bn1): BatchNorm2d(32, eps=1e-05, momentum=0.1, affine=True, track_running_stats=True)\n",
            "  (pool1): MaxPool2d(kernel_size=2, stride=2, padding=0, dilation=1, ceil_mode=False)\n",
            "  (conv2): Conv2d(32, 64, kernel_size=(3, 3), stride=(1, 1), padding=(1, 1))\n",
            "  (bn2): BatchNorm2d(64, eps=1e-05, momentum=0.1, affine=True, track_running_stats=True)\n",
            "  (pool2): MaxPool2d(kernel_size=2, stride=2, padding=0, dilation=1, ceil_mode=False)\n",
            "  (conv3): Conv2d(64, 128, kernel_size=(3, 3), stride=(1, 1), padding=(1, 1))\n",
            "  (bn3): BatchNorm2d(128, eps=1e-05, momentum=0.1, affine=True, track_running_stats=True)\n",
            "  (pool3): MaxPool2d(kernel_size=2, stride=2, padding=0, dilation=1, ceil_mode=False)\n",
            "  (fc1): LazyLinear(in_features=0, out_features=128, bias=True)\n",
            "  (drop1): Dropout(p=0.3, inplace=False)\n",
            "  (fc2): LazyLinear(in_features=0, out_features=128, bias=True)\n",
            "  (drop2): Dropout(p=0.3, inplace=False)\n",
            "  (fc3): LazyLinear(in_features=0, out_features=128, bias=True)\n",
            "  (drop3): Dropout(p=0.3, inplace=False)\n",
            "  (out): Linear(in_features=128, out_features=10, bias=True)\n",
            ")\n"
          ]
        }
      ],
      "source": [
        "class Model(nn.Module):\n",
        "    def __init__(self):\n",
        "        super().__init__()\n",
        "        self.conv1 = nn.Conv2d(3, 32, kernel_size=3, stride=1, padding=1)\n",
        "        self.bn1 = nn.BatchNorm2d(32)  # BatchNorm after Conv1\n",
        "        self.pool1 = nn.MaxPool2d(kernel_size=2, stride=2)\n",
        "\n",
        "        self.conv2 = nn.Conv2d(32, 64, kernel_size=3, stride=1, padding=1)\n",
        "        self.bn2 = nn.BatchNorm2d(64)  # BatchNorm after Conv2\n",
        "        self.pool2 = nn.MaxPool2d(kernel_size=2, stride=2)\n",
        "\n",
        "        self.conv3 = nn.Conv2d(64, 128, kernel_size=3, stride=1, padding=1)\n",
        "        self.bn3 = nn.BatchNorm2d(128)  # BatchNorm after Conv2\n",
        "        self.pool3 = nn.MaxPool2d(kernel_size=2, stride=2)\n",
        "\n",
        "        # LazyLinear will infer input features automatically during first forward pass\n",
        "        self.fc1 = nn.LazyLinear(128)\n",
        "        self.drop1 = nn.Dropout(0.3)\n",
        "        self.fc2 = nn.LazyLinear(128)\n",
        "        self.drop2 = nn.Dropout(0.3)\n",
        "        self.fc3 = nn.LazyLinear(128)\n",
        "        self.drop3 = nn.Dropout(0.3)\n",
        "        self.out = nn.Linear(128, 10)  # Final output layer for 10 classes (CIFAR-10)\n",
        "\n",
        "    def forward(self, x):\n",
        "        x = torch.relu(self.bn1(self.conv1(x)))\n",
        "        x = self.pool1(x)\n",
        "\n",
        "        x = torch.relu(self.bn2(self.conv2(x)))\n",
        "        x = self.pool2(x)\n",
        "\n",
        "        x = torch.relu(self.bn3(self.conv3(x)))\n",
        "        x = self.pool3(x)\n",
        "\n",
        "        x = x.flatten(1)  # Flatten before fully connected layers\n",
        "\n",
        "        x = torch.relu(self.fc1(x))\n",
        "        x = self.drop1(x)  # Apply Dropout\n",
        "\n",
        "        x = torch.relu(self.fc2(x))\n",
        "        x = self.drop2(x)  # Apply Dropout\n",
        "\n",
        "        x = torch.relu(self.fc3(x))\n",
        "        x = self.drop3(x)  # Apply Dropout\n",
        "\n",
        "        x = self.out(x)  # No activation here (logits)\n",
        "        return x\n",
        "\n",
        "# Model Initialization\n",
        "model = Model().to(device)\n",
        "print(model)\n"
      ]
    },
    {
      "cell_type": "markdown",
      "metadata": {
        "id": "9ZSB_IoM5b_F"
      },
      "source": [
        "# Createing loss function and optimization function"
      ]
    },
    {
      "cell_type": "code",
      "execution_count": null,
      "metadata": {
        "id": "oKOWSiJP5hnc"
      },
      "outputs": [],
      "source": [
        "loss_fun = nn.CrossEntropyLoss()\n",
        "optimizer = torch.optim.Adam(model.parameters(), lr=0.001)"
      ]
    },
    {
      "cell_type": "markdown",
      "metadata": {
        "id": "c-WzFvm65DVU"
      },
      "source": [
        "# Training our Data"
      ]
    },
    {
      "cell_type": "code",
      "execution_count": null,
      "metadata": {
        "colab": {
          "base_uri": "https://localhost:8080/"
        },
        "id": "ACcpSDeg4_xj",
        "outputId": "28b0725c-0e75-4212-d17b-478934322372"
      },
      "outputs": [
        {
          "output_type": "stream",
          "name": "stdout",
          "text": [
            "Epoch [1/70], Loss: 1.4985, Accuracy: 44.51%\n",
            "Epoch [2/70], Loss: 1.1536, Accuracy: 59.69%\n",
            "Epoch [3/70], Loss: 1.0229, Accuracy: 64.88%\n",
            "Epoch [4/70], Loss: 0.9427, Accuracy: 67.92%\n",
            "Epoch [5/70], Loss: 0.8697, Accuracy: 70.69%\n",
            "Epoch [6/70], Loss: 0.8296, Accuracy: 72.26%\n",
            "Epoch [7/70], Loss: 0.7949, Accuracy: 73.53%\n",
            "Epoch [8/70], Loss: 0.7563, Accuracy: 74.66%\n",
            "Epoch [9/70], Loss: 0.7291, Accuracy: 75.76%\n",
            "Epoch [10/70], Loss: 0.7048, Accuracy: 76.72%\n",
            "Epoch [11/70], Loss: 0.6814, Accuracy: 77.43%\n",
            "Epoch [12/70], Loss: 0.6626, Accuracy: 78.03%\n",
            "Epoch [13/70], Loss: 0.6359, Accuracy: 78.97%\n",
            "Epoch [14/70], Loss: 0.6171, Accuracy: 79.75%\n",
            "Epoch [15/70], Loss: 0.6089, Accuracy: 80.17%\n",
            "Epoch [16/70], Loss: 0.5889, Accuracy: 80.57%\n",
            "Epoch [17/70], Loss: 0.5748, Accuracy: 80.80%\n",
            "Epoch [18/70], Loss: 0.5589, Accuracy: 81.57%\n",
            "Epoch [19/70], Loss: 0.5437, Accuracy: 82.02%\n",
            "Epoch [20/70], Loss: 0.5333, Accuracy: 82.43%\n",
            "Epoch [21/70], Loss: 0.5217, Accuracy: 82.83%\n",
            "Epoch [22/70], Loss: 0.5132, Accuracy: 83.04%\n",
            "Epoch [23/70], Loss: 0.5026, Accuracy: 83.34%\n",
            "Epoch [24/70], Loss: 0.4993, Accuracy: 83.53%\n",
            "Epoch [25/70], Loss: 0.4882, Accuracy: 83.97%\n",
            "Epoch [26/70], Loss: 0.4824, Accuracy: 84.16%\n",
            "Epoch [27/70], Loss: 0.4671, Accuracy: 84.69%\n",
            "Epoch [28/70], Loss: 0.4630, Accuracy: 85.04%\n",
            "Epoch [29/70], Loss: 0.4587, Accuracy: 85.09%\n",
            "Epoch [30/70], Loss: 0.4481, Accuracy: 85.25%\n",
            "Epoch [31/70], Loss: 0.4477, Accuracy: 85.29%\n",
            "Epoch [32/70], Loss: 0.4360, Accuracy: 85.59%\n",
            "Epoch [33/70], Loss: 0.4325, Accuracy: 85.78%\n",
            "Epoch [34/70], Loss: 0.4304, Accuracy: 85.79%\n",
            "Epoch [35/70], Loss: 0.4210, Accuracy: 86.14%\n",
            "Epoch [36/70], Loss: 0.4133, Accuracy: 86.42%\n",
            "Epoch [37/70], Loss: 0.4108, Accuracy: 86.51%\n",
            "Epoch [38/70], Loss: 0.4067, Accuracy: 86.68%\n",
            "Epoch [39/70], Loss: 0.3965, Accuracy: 87.10%\n",
            "Epoch [40/70], Loss: 0.3968, Accuracy: 87.02%\n",
            "Epoch [41/70], Loss: 0.3948, Accuracy: 86.98%\n",
            "Epoch [42/70], Loss: 0.3911, Accuracy: 87.31%\n",
            "Epoch [43/70], Loss: 0.3856, Accuracy: 87.46%\n",
            "Epoch [44/70], Loss: 0.3766, Accuracy: 87.63%\n",
            "Epoch [45/70], Loss: 0.3801, Accuracy: 87.56%\n",
            "Epoch [46/70], Loss: 0.3745, Accuracy: 87.63%\n",
            "Epoch [47/70], Loss: 0.3697, Accuracy: 88.00%\n",
            "Epoch [48/70], Loss: 0.3676, Accuracy: 87.90%\n",
            "Epoch [49/70], Loss: 0.3588, Accuracy: 88.18%\n",
            "Epoch [50/70], Loss: 0.3665, Accuracy: 88.00%\n",
            "Epoch [51/70], Loss: 0.3550, Accuracy: 88.39%\n",
            "Epoch [52/70], Loss: 0.3491, Accuracy: 88.68%\n",
            "Epoch [53/70], Loss: 0.3518, Accuracy: 88.37%\n",
            "Epoch [54/70], Loss: 0.3496, Accuracy: 88.67%\n",
            "Epoch [55/70], Loss: 0.3382, Accuracy: 88.81%\n",
            "Epoch [56/70], Loss: 0.3438, Accuracy: 88.82%\n",
            "Epoch [57/70], Loss: 0.3384, Accuracy: 88.94%\n",
            "Epoch [58/70], Loss: 0.3359, Accuracy: 89.15%\n",
            "Epoch [59/70], Loss: 0.3302, Accuracy: 89.25%\n",
            "Epoch [60/70], Loss: 0.3345, Accuracy: 89.13%\n",
            "Epoch [61/70], Loss: 0.3281, Accuracy: 89.26%\n",
            "Epoch [62/70], Loss: 0.3260, Accuracy: 89.43%\n",
            "Epoch [63/70], Loss: 0.3170, Accuracy: 89.72%\n",
            "Epoch [64/70], Loss: 0.3171, Accuracy: 89.79%\n",
            "Epoch [65/70], Loss: 0.3206, Accuracy: 89.63%\n",
            "Epoch [66/70], Loss: 0.3136, Accuracy: 89.75%\n",
            "Epoch [67/70], Loss: 0.3112, Accuracy: 89.92%\n",
            "Epoch [68/70], Loss: 0.3112, Accuracy: 89.83%\n",
            "Epoch [69/70], Loss: 0.3122, Accuracy: 89.85%\n",
            "Epoch [70/70], Loss: 0.3088, Accuracy: 90.14%\n"
          ]
        }
      ],
      "source": [
        "train_losses = []\n",
        "train_accuracies = []\n",
        "\n",
        "epochs = 70  # or however many you choose\n",
        "\n",
        "for epoch in range(epochs):\n",
        "    running_loss = 0.0\n",
        "    correct = 0\n",
        "    total = 0\n",
        "    model.train()\n",
        "\n",
        "    for images, labels in train_loader:\n",
        "        optimizer.zero_grad()\n",
        "        images, labels = images.to(device), labels.to(device)\n",
        "\n",
        "        outputs = model(images)\n",
        "        loss = loss_fun(outputs, labels)\n",
        "\n",
        "        loss.backward()\n",
        "        optimizer.step()\n",
        "\n",
        "        running_loss += loss.item()\n",
        "\n",
        "        # Calculate accuracy on the fly for this batch\n",
        "        _, predicted = torch.max(outputs, 1)\n",
        "        total += labels.size(0)\n",
        "        correct += (predicted == labels).sum().item()\n",
        "\n",
        "    # Calculate average loss and accuracy for the epoch\n",
        "    epoch_loss = running_loss / len(train_loader)\n",
        "    epoch_accuracy = 100 * correct / total\n",
        "\n",
        "    train_losses.append(epoch_loss)\n",
        "    train_accuracies.append(epoch_accuracy)\n",
        "\n",
        "    # scheduler.step()  # if you're using a scheduler\n",
        "\n",
        "    print(f\"Epoch [{epoch + 1}/{epochs}], Loss: {epoch_loss:.4f}, Accuracy: {epoch_accuracy:.2f}%\")\n",
        "\n"
      ]
    },
    {
      "cell_type": "markdown",
      "source": [
        "# Plotting Curve"
      ],
      "metadata": {
        "id": "XdXhNGIsICvG"
      }
    },
    {
      "cell_type": "code",
      "source": [
        "import matplotlib.pyplot as plt\n",
        "\n",
        "# Plot Training Loss\n",
        "plt.figure(figsize=(12, 5))\n",
        "\n",
        "plt.subplot(1, 2, 1)\n",
        "plt.plot(train_losses, label='Training Loss', color='blue')\n",
        "plt.xlabel('Epoch')\n",
        "plt.ylabel('Loss')\n",
        "plt.title('Training Loss over Epochs')\n",
        "plt.legend()\n",
        "\n",
        "# Plot Training Accuracy\n",
        "plt.subplot(1, 2, 2)\n",
        "plt.plot(train_accuracies, label='Training Accuracy', color='green')\n",
        "plt.xlabel('Epoch')\n",
        "plt.ylabel('Accuracy (%)')\n",
        "plt.title('Training Accuracy over Epochs')\n",
        "plt.legend()\n",
        "\n",
        "plt.show()\n"
      ],
      "metadata": {
        "id": "IIgbASRn2cLY",
        "colab": {
          "base_uri": "https://localhost:8080/",
          "height": 487
        },
        "outputId": "ca398555-e55f-479d-d460-78b3ebf326bd"
      },
      "execution_count": null,
      "outputs": [
        {
          "output_type": "display_data",
          "data": {
            "text/plain": [
              "<Figure size 1200x500 with 2 Axes>"
            ],
            "image/png": "[encoded data removed]"
          },
          "metadata": {}
        }
      ]
    },
    {
      "cell_type": "markdown",
      "metadata": {
        "id": "IW_CU9lmBGtE"
      },
      "source": [
        "# Evaluating our Model"
      ]
    },
    {
      "cell_type": "code",
      "execution_count": null,
      "metadata": {
        "id": "9Zbp5VNcBJ7L",
        "colab": {
          "base_uri": "https://localhost:8080/"
        },
        "outputId": "20104678-b07e-41bf-a505-6780e48d4681"
      },
      "outputs": [
        {
          "output_type": "stream",
          "name": "stdout",
          "text": [
            "Accuracy: 81.56%\n"
          ]
        }
      ],
      "source": [
        "model.eval()\n",
        "\n",
        "correct = 0\n",
        "total = 0\n",
        "\n",
        "with torch.no_grad():\n",
        "  for images, labels in (test_loader):\n",
        "    images, labels = images.to(device), labels.to(device)\n",
        "\n",
        "    outputs = model(images)\n",
        "    _, predicted = torch.max(outputs, 1)\n",
        "\n",
        "    total += labels.size(0)\n",
        "    correct += (predicted == labels).sum().item()\n",
        "\n",
        "accuracy = 100 * correct / total\n",
        "print(f\"Accuracy: {accuracy:.2f}%\")\n"
      ]
    }
  ],
  "metadata": {
    "accelerator": "GPU",
    "colab": {
      "gpuType": "T4",
      "provenance": []
    },
    "kernelspec": {
      "display_name": "Python 3",
      "name": "python3"
    },
    "language_info": {
      "name": "python"
    }
  },
  "nbformat": 4,
  "nbformat_minor": 0
}